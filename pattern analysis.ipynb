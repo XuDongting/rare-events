{
 "cells": [
  {
   "cell_type": "code",
   "execution_count": 1,
   "metadata": {},
   "outputs": [],
   "source": [
    "import numpy as np\n",
    "import pandas as pd\n",
    "data = pd.read_csv(\"processminer-rare-event-mts.csv\")"
   ]
  },
  {
   "cell_type": "code",
   "execution_count": 4,
   "metadata": {},
   "outputs": [
    {
     "name": "stdout",
     "output_type": "stream",
     "text": [
      "<class 'pandas.core.frame.DataFrame'>\n",
      "RangeIndex: 18398 entries, 0 to 18397\n",
      "Data columns (total 63 columns):\n",
      "time    18398 non-null object\n",
      "y       18398 non-null int64\n",
      "x1      18398 non-null float64\n",
      "x2      18398 non-null float64\n",
      "x3      18398 non-null float64\n",
      "x4      18398 non-null float64\n",
      "x5      18398 non-null float64\n",
      "x6      18398 non-null float64\n",
      "x7      18398 non-null float64\n",
      "x8      18398 non-null float64\n",
      "x9      18398 non-null float64\n",
      "x10     18398 non-null float64\n",
      "x11     18398 non-null float64\n",
      "x12     18398 non-null float64\n",
      "x13     18398 non-null float64\n",
      "x14     18398 non-null float64\n",
      "x15     18398 non-null float64\n",
      "x16     18398 non-null float64\n",
      "x17     18398 non-null float64\n",
      "x18     18398 non-null float64\n",
      "x19     18398 non-null float64\n",
      "x20     18398 non-null float64\n",
      "x21     18398 non-null float64\n",
      "x22     18398 non-null float64\n",
      "x23     18398 non-null float64\n",
      "x24     18398 non-null float64\n",
      "x25     18398 non-null float64\n",
      "x26     18398 non-null float64\n",
      "x27     18398 non-null float64\n",
      "x28     18398 non-null int64\n",
      "x29     18398 non-null float64\n",
      "x30     18398 non-null float64\n",
      "x31     18398 non-null float64\n",
      "x32     18398 non-null float64\n",
      "x33     18398 non-null float64\n",
      "x34     18398 non-null float64\n",
      "x35     18398 non-null float64\n",
      "x36     18398 non-null float64\n",
      "x37     18398 non-null float64\n",
      "x38     18398 non-null float64\n",
      "x39     18398 non-null float64\n",
      "x40     18398 non-null float64\n",
      "x41     18398 non-null float64\n",
      "x42     18398 non-null float64\n",
      "x43     18398 non-null float64\n",
      "x44     18398 non-null float64\n",
      "x45     18398 non-null float64\n",
      "x46     18398 non-null float64\n",
      "x47     18398 non-null float64\n",
      "x48     18398 non-null float64\n",
      "x49     18398 non-null float64\n",
      "x50     18398 non-null float64\n",
      "x51     18398 non-null float64\n",
      "x52     18398 non-null float64\n",
      "x53     18398 non-null float64\n",
      "x54     18398 non-null float64\n",
      "x55     18398 non-null float64\n",
      "x56     18398 non-null float64\n",
      "x57     18398 non-null float64\n",
      "x58     18398 non-null float64\n",
      "x59     18398 non-null float64\n",
      "x60     18398 non-null float64\n",
      "x61     18398 non-null int64\n",
      "dtypes: float64(59), int64(3), object(1)\n",
      "memory usage: 8.8+ MB\n",
      "None\n"
     ]
    }
   ],
   "source": [
    "print(data.info())"
   ]
  },
  {
   "cell_type": "code",
   "execution_count": null,
   "metadata": {},
   "outputs": [],
   "source": []
  }
 ],
 "metadata": {
  "kernelspec": {
   "display_name": "Python 3",
   "language": "python",
   "name": "python3"
  },
  "language_info": {
   "codemirror_mode": {
    "name": "ipython",
    "version": 3
   },
   "file_extension": ".py",
   "mimetype": "text/x-python",
   "name": "python",
   "nbconvert_exporter": "python",
   "pygments_lexer": "ipython3",
   "version": "3.7.1"
  }
 },
 "nbformat": 4,
 "nbformat_minor": 2
}
