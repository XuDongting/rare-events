{
 "cells": [
  {
   "cell_type": "code",
   "execution_count": 2,
   "metadata": {},
   "outputs": [],
   "source": [
    "import statsmodels.api as sm\n",
    "import numpy as np\n",
    "import pandas as pd\n",
    "from scipy.stats import fisher_exact"
   ]
  },
  {
   "cell_type": "code",
   "execution_count": 4,
   "metadata": {},
   "outputs": [],
   "source": [
    "# A 2x2 contingency table\n",
    "tab = [[35, 45], [30, 51]]\n",
    "tab = sm.stats.Table2x2(tab)"
   ]
  },
  {
   "cell_type": "code",
   "execution_count": null,
   "metadata": {},
   "outputs": [],
   "source": [
    "# use 'dir(tab)' to see what can be done with a 2x2 table\n",
    "\n",
    "# Print some basic results\n",
    "print(tab.summary())\n",
    "\n",
    "print(\"\\nChi^2 association test results:\")\n",
    "print(tab.test_nominal_association())\n",
    "\n",
    "print(\"\\nFisher's exact test:\")\n",
    "print(fisher_exact(tab.table))\n",
    "\n",
    "# use 'help(fisher_exact)' to see how to interpret the results\n",
    "\n",
    "# Independent samples t-tests \n",
    "print(\"\\nT-tests:\")\n",
    "for k in range(20):\n",
    "    # Simulate two datasets with different population means\n",
    "    x = np.random.normal(size=20)\n",
    "    y = 0.5 + np.random.normal(size=20)\n",
    "\n",
    "    print(sm.stats.ttest_ind(x, y))"
   ]
  }
 ],
 "metadata": {
  "kernelspec": {
   "display_name": "Python 3",
   "language": "python",
   "name": "python3"
  },
  "language_info": {
   "codemirror_mode": {
    "name": "ipython",
    "version": 3
   },
   "file_extension": ".py",
   "mimetype": "text/x-python",
   "name": "python",
   "nbconvert_exporter": "python",
   "pygments_lexer": "ipython3",
   "version": "3.7.1"
  }
 },
 "nbformat": 4,
 "nbformat_minor": 2
}
