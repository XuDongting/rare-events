{
 "cells": [
  {
   "cell_type": "code",
   "execution_count": 1,
   "metadata": {},
   "outputs": [],
   "source": [
    "import sys\n",
    "sys.path.insert(0, \"/afs/umich.edu/user/k/s/kshedden/statsmodels_fork/statsmodels\")\n",
    "\n",
    "%matplotlib inline\n",
    "import matplotlib.pyplot as plt\n",
    "import seaborn as sns\n",
    "import pandas as pd\n",
    "import statsmodels.api as sm\n",
    "import numpy as np\n",
    "from statsmodels.imputation import mice\n",
    "from statsmodels.imputation.bayes_mi import BayesGaussMI, MI"
   ]
  },
  {
   "cell_type": "code",
   "execution_count": 2,
   "metadata": {},
   "outputs": [],
   "source": [
    "url = \"https://raw.githubusercontent.com/kshedden/statswpy/master/NHANES/merged/nhanes_2015_2016.csv\"\n",
    "da = pd.read_csv(url)\n",
    "\n",
    "# Retain a subset of columns for use below.\n",
    "vars = [\"BPXSY1\", \"RIDAGEYR\", \"RIAGENDR\", \"RIDRETH1\", \"DMDEDUC2\", \"BMXBMI\", \"SMQ020\"]"
   ]
  },
  {
   "cell_type": "code",
   "execution_count": 3,
   "metadata": {},
   "outputs": [
    {
     "name": "stdout",
     "output_type": "stream",
     "text": [
      "(5735, 2)\n",
      "BPXSY1    334\n",
      "BMXBMI     73\n",
      "dtype: int64\n",
      "19\n"
     ]
    }
   ],
   "source": [
    "dx = da.loc[:, [\"BPXSY1\", \"BMXBMI\"]]\n",
    "print(dx.shape)\n",
    "print(pd.isnull(dx).sum(0))\n",
    "print(pd.isnull(dx).prod(1).sum(0))"
   ]
  },
  {
   "cell_type": "code",
   "execution_count": 4,
   "metadata": {},
   "outputs": [
    {
     "name": "stdout",
     "output_type": "stream",
     "text": [
      "Complete case estimate:       0.135201\n",
      "Complete case standard error: 0.013676\n",
      "\n"
     ]
    }
   ],
   "source": [
    "\n",
    "dd = dx.dropna()\n",
    "c = np.cov(dd.T)\n",
    "\n",
    "r_cc = c[0, 1] / np.sqrt(c[0, 0] * c[1, 1])\n",
    "print(\"Complete case estimate:       %f\" % r_cc)\n",
    "print(\"Complete case standard error: %f\\n\" % (1 / np.sqrt(dd.shape[0])))\n"
   ]
  },
  {
   "cell_type": "code",
   "execution_count": null,
   "metadata": {},
   "outputs": [],
   "source": []
  }
 ],
 "metadata": {
  "kernelspec": {
   "display_name": "Python 3",
   "language": "python",
   "name": "python3"
  },
  "language_info": {
   "codemirror_mode": {
    "name": "ipython",
    "version": 3
   },
   "file_extension": ".py",
   "mimetype": "text/x-python",
   "name": "python",
   "nbconvert_exporter": "python",
   "pygments_lexer": "ipython3",
   "version": "3.7.1"
  }
 },
 "nbformat": 4,
 "nbformat_minor": 2
}
